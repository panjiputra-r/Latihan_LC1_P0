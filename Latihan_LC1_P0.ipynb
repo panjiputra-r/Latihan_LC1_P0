{
  "cells": [
    {
      "cell_type": "markdown",
      "metadata": {
        "id": "lCHIkZZHY7w9"
      },
      "source": [
        "#### 1. Buatlah fungsi untuk menghitung `jumlah kalori terbakar` berdasarkan `jenis kegiatan` dan `durasi dalam menit`, dengan ketentuan di bawah:\n",
        "\n",
        "<div align=\"center\">\n",
        "\n",
        "|Kegiatan|Kalori Terbakar per Menit|\n",
        "|--|--|\n",
        "|Berlari|10|\n",
        "|Bersepeda|8|\n",
        "|Berenang|12|\n",
        "\n",
        "\n",
        "</div>\n",
        "\n",
        "contoh:\n",
        "```\n",
        ">>> input: calories_burned(duration=60, exercise='berenang')\n",
        ">>> output: 720\n",
        "\n",
        ">>> input: calories_burned(duration=15, exercise='berlari')\n",
        ">>> output: 150\n",
        "\n",
        ">>> input:calories_burned(duration=20, exercise='bersepeda')\n",
        ">>> output: 160\n",
        "```"
      ]
    },
    {
      "cell_type": "code",
      "execution_count": 9,
      "metadata": {
        "id": "c23SraoGn0sB"
      },
      "outputs": [
        {
          "name": "stdout",
          "output_type": "stream",
          "text": [
            "200\n"
          ]
        }
      ],
      "source": [
        "# working area\n",
        "def jumlah_kalori_terbakar(kegiatan, durasi):\n",
        "    if kegiatan == 'berlari':\n",
        "        return 10*durasi\n",
        "    elif kegiatan == 'bersepeda':\n",
        "        return 8*durasi\n",
        "    elif kegiatan == 'berenang':\n",
        "        return 12*durasi\n",
        "    else:\n",
        "        return 0\n",
        "\n",
        "print(jumlah_kalori_terbakar('berlari', 20))\n",
        "# print(jumlah_kalori_terbakar('bersepeda', 20))\n",
        "# print(jumlah_kalori_terbakar('berenang', 60))\n"
      ]
    },
    {
      "cell_type": "markdown",
      "metadata": {
        "id": "uVYOZdpMaRC6"
      },
      "source": [
        "#### 2. Buat function untuk menghitung `total kalori terbakar` dari `beberapa sesi latihan`, manfaatkan fungsi yang telah dibuat sebelumnya di dalam function ini.\n",
        "\n",
        "Notes:\n",
        "- Dalam kasus ini diasumsikan setiap sesi latihan memiliki durasi yang sama (`each_session_duration`).\n",
        "- Function yang dibuat memiliki input argumen berupa: `n-length jenis latihan yang dilakukan di setiap sesinya` dan `each_session_duration`\n",
        "- Manfaatkan `*args` variable-length input untuk memasukkan jenis latihan.\n",
        "- Manfaatkan function yang telah dibuat sebelumnya untuk mengitung kalori terbakar di setiap sesi\n",
        "\n",
        "Contoh:\n",
        "```\n",
        ">>> input: total_session_burned_cal('berenang', 'bersepeda', each_session_duration=10)\n",
        ">>> output: 200\n",
        "\n",
        "penjelasan:\n",
        "kegiatan berenang dilakukan 10 menit dan kegiatan bersepeda dilakukan 10 menit dapat membakar total 200 kalori\n",
        "\n",
        ">>> input: total_session_burned_cal('berenang', 'berlari', 'bersepeda', each_session_duration=5)\n",
        ">>> output: 150\n",
        "\n",
        "penjelasan:\n",
        "kegiatan berenang, berlari dan bersepeda yang masing-masing dilakukan 5 menit dapat membakar 150 kalori.\n",
        "```"
      ]
    },
    {
      "cell_type": "code",
      "execution_count": 10,
      "metadata": {
        "id": "ttZ2qwHjn3Mb"
      },
      "outputs": [
        {
          "data": {
            "text/plain": [
              "600"
            ]
          },
          "execution_count": 10,
          "metadata": {},
          "output_type": "execute_result"
        }
      ],
      "source": [
        "# working area\n",
        "\n",
        "def total_persesi_kalori_terbakar(*kegiatan, sesi_durasi):\n",
        "    total_kalori = 0\n",
        "    for jenis_kegiatan in kegiatan:\n",
        "        kalori_terbakar = jumlah_kalori_terbakar(jenis_kegiatan, sesi_durasi)\n",
        "        total_kalori = total_kalori + kalori_terbakar\n",
        "    \n",
        "    return total_kalori\n",
        "\n",
        "total_persesi_kalori_terbakar('berenang', 'bersepeda', sesi_durasi=30)"
      ]
    },
    {
      "cell_type": "markdown",
      "metadata": {
        "id": "rvST1Pn9h6QX"
      },
      "source": [
        "#### 3. Lakukan Unit Testing pada kedua function yang telah dibuat.\n",
        "\n",
        "  ***Notes:***\n",
        "  \n",
        "  Pengujian Unit testing dapat dilakukan pada cell .ipynb dengan cara:\n",
        "- Cukup buat cell baru dan tulis code kerangka unit test di cell tersebut dan jalankan langsung di cell tanpa menggunakan if __name__()=='__main__'.\n",
        "\n",
        "- Sebagai pengganti idiom ini:\n",
        "```\n",
        "`if __name__=='__main__'`:\n",
        "   unittest.main()\n",
        "```\n",
        "dapat menggunakan:\n",
        "```\n",
        "unittest.main(argv=[''], exit=False)\n",
        "```"
      ]
    },
    {
      "cell_type": "code",
      "execution_count": 11,
      "metadata": {
        "id": "Q5CHnIifn5-C"
      },
      "outputs": [
        {
          "name": "stderr",
          "output_type": "stream",
          "text": [
            "..\n",
            "----------------------------------------------------------------------\n",
            "Ran 2 tests in 0.001s\n",
            "\n",
            "OK\n"
          ]
        },
        {
          "data": {
            "text/plain": [
              "<unittest.main.TestProgram at 0x1936fe2be10>"
            ]
          },
          "execution_count": 11,
          "metadata": {},
          "output_type": "execute_result"
        }
      ],
      "source": [
        "# working area\n",
        "import unittest\n",
        "\n",
        "class MenghitungJumlahKaloriTest(unittest.TestCase):\n",
        "    def test_jumlah_kalori_terbakar(self):\n",
        "        self.assertEqual(jumlah_kalori_terbakar('berlari', 5), 50)\n",
        "        self.assertEqual(jumlah_kalori_terbakar('bersepeda', 2), 16)\n",
        "        self.assertEqual(jumlah_kalori_terbakar('berenang', 60), 720)\n",
        "\n",
        "class MenghitungSesiKaloriTest(unittest.TestCase):\n",
        "    def test_persesi_kalori_terbakar(self):\n",
        "        self.assertEqual(total_persesi_kalori_terbakar('berenang','bersepeda', sesi_durasi=30), 600)\n",
        "        \n",
        "\n",
        "unittest.main(argv=[''], exit=False)"
      ]
    },
    {
      "cell_type": "code",
      "execution_count": null,
      "metadata": {},
      "outputs": [],
      "source": []
    }
  ],
  "metadata": {
    "colab": {
      "provenance": []
    },
    "kernelspec": {
      "display_name": "Python 3",
      "name": "python3"
    },
    "language_info": {
      "codemirror_mode": {
        "name": "ipython",
        "version": 3
      },
      "file_extension": ".py",
      "mimetype": "text/x-python",
      "name": "python",
      "nbconvert_exporter": "python",
      "pygments_lexer": "ipython3",
      "version": "3.11.5"
    }
  },
  "nbformat": 4,
  "nbformat_minor": 0
}
